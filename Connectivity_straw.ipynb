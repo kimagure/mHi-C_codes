{
 "cells": [
  {
   "cell_type": "code",
   "execution_count": null,
   "id": "6b58871d",
   "metadata": {},
   "outputs": [],
   "source": [
    "import numpy as np\n",
    "import pandas as pd\n",
    "import sys,os\n",
    "import pickle\n",
    "import hicstraw\n",
    "from joblib import Parallel, delayed"
   ]
  },
  {
   "cell_type": "code",
   "execution_count": null,
   "id": "77bf5098",
   "metadata": {},
   "outputs": [],
   "source": [
    "def zoomdata(row,hic,cord1=1,cord2=2,cord3=6,cord4=7,diagonal=False): \n",
    "    if diagonal==True:\n",
    "        return np.diag(hic.getRecordsAsMatrix(row[cord1],row[cord2],row[cord3],row[cord4])).mean()  \n",
    "    else:\n",
    "        g=np.array(sorted(hic.getRecordsAsMatrix(row[cord1],row[cord2],row[cord3],row[cord4]).flatten()))\n",
    "        if len(g)<4:\n",
    "            return g.sum()\n",
    "        else:\n",
    "            return g[-3:].sum()\n",
    "    \n",
    "def zoombgneighbor(row,hic,cord1=1,cord2=2,cord3=6,cord4=7,diagonal=False,exclude=5000,include=50000): #bg estimator\n",
    "        n11=row[cord1]-include\n",
    "        n12=row[cord1]-exclude\n",
    "        n21=row[cord2]+exclude\n",
    "        n22=row[cord2]+include\n",
    "        n31=row[cord3]-include\n",
    "        n32=row[cord3]-exclude\n",
    "        n41=row[cord4]+exclude\n",
    "        n42=row[cord4]+include\n",
    "        if row[cord1]<row[cord4]:\n",
    "            res1=hic.getRecordsAsMatrix(n11,n12,n41,n42).mean()\n",
    "            return res1\n",
    "        else:\n",
    "            res2=hic.getRecordsAsMatrix(n21,n22,n31,n32).mean()\n",
    "            return res2\n",
    "\n",
    "try:\n",
    "    candf\n",
    "except NameError:\n",
    "    candf = [] \n",
    "    \n",
    "def plf7(filename,df=candf):\n",
    "    print(filename)\n",
    "    hic = hicstraw.HiCFile(folder+filename)\n",
    "    results=[]\n",
    "    print(df)\n",
    "    for i in df[0].unique():\n",
    "        key=str(i)\n",
    "        hic1=hic.getMatrixZoomData(key,key, \"observed\", \"KR\", \"BP\", 1000)\n",
    "        sub=df[df[0]==i]\n",
    "        results.append(sub.apply(zoomdata,hic=hic1,cord3=6,cord4=7,axis=1))\n",
    "    results=pd.concat(results)\n",
    "    print('ready')\n",
    "    return(filename.split(\".\")[0],results)\n",
    "\n",
    "def pbk7(filename,df=candf):\n",
    "    print(filename)\n",
    "    hic = hicstraw.HiCFile(folder+filename)\n",
    "    results=[]\n",
    "    print(df)\n",
    "    for i in df[0].unique():\n",
    "        key=str(i)\n",
    "        hic1=hic.getMatrixZoomData(key,key, \"observed\", \"KR\", \"BP\", 1000)\n",
    "        sub=df[df[0]==i]\n",
    "        results.append(sub.apply(zoombgneighbor,hic=hic1,cord3=6,cord4=7,axis=1))\n",
    "    results=pd.concat(results)\n",
    "    print('ready')\n",
    "    return(filename.split(\".\")[0],results)\n"
   ]
  },
  {
   "cell_type": "code",
   "execution_count": null,
   "id": "9b1d2214",
   "metadata": {},
   "outputs": [],
   "source": [
    "#all atac+TSS peak pairs within 200 kb\n",
    "\n",
    "!module load bedtools2\n",
    "!bedtools window -a atac_final.bed -b atac_final.bed -w 200000 |awk '$7>$3' > atac_finall_200k_full.bedpe"
   ]
  },
  {
   "cell_type": "code",
   "execution_count": null,
   "id": "545d851f",
   "metadata": {},
   "outputs": [],
   "source": [
    "candidate=pd.read_csv('atac_finall_200k_full.bedpe',header=None,sep=\"\\t\")\n",
    "hic = hicstraw.HiCFile('all.hg38.nodups.pairs.hic')\n",
    "\n",
    "hics=os.listdir('hics/')\n",
    "hics=sorted([i for i in hics if 'all' not in i and '.hic' in i])"
   ]
  },
  {
   "cell_type": "code",
   "execution_count": null,
   "id": "ff5c23ba",
   "metadata": {},
   "outputs": [],
   "source": [
    "#selecting candidate interaction pairs with some contact frequency\n",
    "\n",
    "resultsk=[]\n",
    "results=[]\n",
    "for i in candidate[0].unique():\n",
    "    key=str(i)\n",
    "    data1=hic.getMatrixZoomData(key,key, \"observed\", \"KR\", \"BP\", 1000)\n",
    "    data2=hic.getMatrixZoomData(key,key, \"observed\", \"NONE\", \"BP\", 1000)\n",
    "    sub=candidate[candidate[0]==i]\n",
    "    resultsk.append(sub.apply(zoomdata,hic=data1,axis=1))\n",
    "    results.append(sub.apply(zoomdata,hic=data2,axis=1))\n",
    "    \n",
    "candidate['KR']=pd.concat(resultsk)\n",
    "candidate['NN']=pd.concat(results)\n",
    "candf=candidate[np.logical_and(candidate['NN']>=5,candidate['KR']>=1)]\n"
   ]
  },
  {
   "cell_type": "code",
   "execution_count": null,
   "id": "80bf2449",
   "metadata": {},
   "outputs": [],
   "source": [
    "#raw balanced contact frequency\n",
    "lf=Parallel(n_jobs=16)(delayed(plf7)(i) for i in hics) #[j for j in orders])\n",
    "lfk=pd.DataFrame(dict(lf))"
   ]
  },
  {
   "cell_type": "code",
   "execution_count": null,
   "id": "434bb847",
   "metadata": {},
   "outputs": [],
   "source": [
    "#background \n",
    "bn = Parallel(n_jobs=16)(delayed(pbk7)(i) for i in hics)\n",
    "bg = pd.DataFrame(dict(bn))"
   ]
  },
  {
   "cell_type": "code",
   "execution_count": null,
   "id": "14199f43",
   "metadata": {},
   "outputs": [],
   "source": [
    "#normalized connectivity \n",
    "lff=lfk.divide(bg.mean())*(bg.mean().mean())"
   ]
  }
 ],
 "metadata": {
  "kernelspec": {
   "display_name": "kernel0424",
   "language": "python",
   "name": "kernel0424"
  },
  "language_info": {
   "codemirror_mode": {
    "name": "ipython",
    "version": 3
   },
   "file_extension": ".py",
   "mimetype": "text/x-python",
   "name": "python",
   "nbconvert_exporter": "python",
   "pygments_lexer": "ipython3",
   "version": "3.10.14"
  }
 },
 "nbformat": 4,
 "nbformat_minor": 5
}
